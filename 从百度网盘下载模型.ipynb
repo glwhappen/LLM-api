{
 "cells": [
  {
   "cell_type": "code",
   "execution_count": 1,
   "id": "f39edf77-0a0e-4eda-91f2-2eb772211e23",
   "metadata": {},
   "outputs": [
    {
     "name": "stdout",
     "output_type": "stream",
     "text": [
      "Looking in indexes: http://mirrors.aliyun.com/pypi/simple\n",
      "Collecting bypy\n",
      "  Downloading http://mirrors.aliyun.com/pypi/packages/9c/29/d50579090e109f2c502c4ad22a726d38ed7a47d7c5483a4b92a8a859532d/bypy-1.8.2-py2.py3-none-any.whl (241 kB)\n",
      "\u001b[K     |████████████████████████████████| 241 kB 1.3 MB/s eta 0:00:01\n",
      "\u001b[?25hCollecting multiprocess\n",
      "  Downloading http://mirrors.aliyun.com/pypi/packages/c2/a6/c5cb599d917904878f220a4dbdfdcc4ef291dd3956c35b3b0dc6fc42fb6d/multiprocess-0.70.15-py38-none-any.whl (132 kB)\n",
      "\u001b[K     |████████████████████████████████| 132 kB 14.9 MB/s eta 0:00:01\n",
      "\u001b[?25hRequirement already satisfied: requests in /root/miniconda3/lib/python3.8/site-packages (from bypy) (2.25.1)\n",
      "Collecting requests-toolbelt\n",
      "  Downloading http://mirrors.aliyun.com/pypi/packages/3f/51/d4db610ef29373b879047326cbf6fa98b6c1969d6f6dc423279de2b1be2c/requests_toolbelt-1.0.0-py2.py3-none-any.whl (54 kB)\n",
      "\u001b[K     |████████████████████████████████| 54 kB 12.8 MB/s eta 0:00:01\n",
      "\u001b[?25hCollecting dill>=0.3.7\n",
      "  Downloading http://mirrors.aliyun.com/pypi/packages/f5/3a/74a29b11cf2cdfcd6ba89c0cecd70b37cd1ba7b77978ce611eb7a146a832/dill-0.3.7-py3-none-any.whl (115 kB)\n",
      "\u001b[K     |████████████████████████████████| 115 kB 17.5 MB/s eta 0:00:01\n",
      "\u001b[?25hRequirement already satisfied: urllib3<1.27,>=1.21.1 in /root/miniconda3/lib/python3.8/site-packages (from requests->bypy) (1.26.6)\n",
      "Requirement already satisfied: certifi>=2017.4.17 in /root/miniconda3/lib/python3.8/site-packages (from requests->bypy) (2021.5.30)\n",
      "Requirement already satisfied: idna<3,>=2.5 in /root/miniconda3/lib/python3.8/site-packages (from requests->bypy) (2.10)\n",
      "Requirement already satisfied: chardet<5,>=3.0.2 in /root/miniconda3/lib/python3.8/site-packages (from requests->bypy) (4.0.0)\n",
      "Installing collected packages: dill, requests-toolbelt, multiprocess, bypy\n",
      "Successfully installed bypy-1.8.2 dill-0.3.7 multiprocess-0.70.15 requests-toolbelt-1.0.0\n",
      "\u001b[33mWARNING: Running pip as the 'root' user can result in broken permissions and conflicting behaviour with the system package manager. It is recommended to use a virtual environment instead: https://pip.pypa.io/warnings/venv\u001b[0m\n"
     ]
    }
   ],
   "source": [
    "!pip install bypy"
   ]
  },
  {
   "cell_type": "code",
   "execution_count": 1,
   "id": "7e2844df-a940-42a5-92f4-595e0ab695bf",
   "metadata": {},
   "outputs": [],
   "source": [
    "!bypy info"
   ]
  },
  {
   "cell_type": "code",
   "execution_count": 2,
   "id": "c3e858c7-1782-4463-8ac9-7e3be1ed78a4",
   "metadata": {},
   "outputs": [
    {
     "name": "stdout",
     "output_type": "stream",
     "text": [
      "下载模型.ipynb\tapp.py\tmodel.py  __pycache__\n"
     ]
    }
   ],
   "source": [
    "!ls"
   ]
  },
  {
   "cell_type": "code",
   "execution_count": 3,
   "id": "8af36acc-fd72-4c31-b01d-7c4ea7ba6b4e",
   "metadata": {},
   "outputs": [],
   "source": [
    "!bypy downdir /remote/linux/models ./models"
   ]
  }
 ],
 "metadata": {
  "kernelspec": {
   "display_name": "Python 3 (ipykernel)",
   "language": "python",
   "name": "python3"
  },
  "language_info": {
   "codemirror_mode": {
    "name": "ipython",
    "version": 3
   },
   "file_extension": ".py",
   "mimetype": "text/x-python",
   "name": "python",
   "nbconvert_exporter": "python",
   "pygments_lexer": "ipython3",
   "version": "3.8.10"
  }
 },
 "nbformat": 4,
 "nbformat_minor": 5
}
